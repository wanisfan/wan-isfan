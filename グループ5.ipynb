{
  "nbformat": 4,
  "nbformat_minor": 0,
  "metadata": {
    "colab": {
      "name": "グループ5.ipynb",
      "provenance": [],
      "collapsed_sections": []
    },
    "kernelspec": {
      "name": "python3",
      "display_name": "Python 3"
    }
  },
  "cells": [
    {
      "cell_type": "code",
      "metadata": {
        "id": "zTOHeePCoLk5",
        "colab_type": "code",
        "outputId": "7bced443-a890-4d35-828d-280d0858babc",
        "colab": {
          "base_uri": "https://localhost:8080/",
          "height": 34
        }
      },
      "source": [
        " import random\n",
        "question = input(\"would you like to roll the dice [y/n]?\")\n",
        "while question != \"n\":\n",
        "  if question ==\"y\":\n",
        "    die1 = random.randint(1,2,3,4,5,6)\n",
        "    die2 = random.randint(1,6)\n",
        "    print(die1,die2)\n",
        "    question = input(\"would you like to roll the dice [y/n]?\")\n"
      ],
      "execution_count": 13,
      "outputs": [
        {
          "output_type": "stream",
          "text": [
            "would you like to roll the dice [y/n]?n\n"
          ],
          "name": "stdout"
        }
      ]
    },
    {
      "cell_type": "code",
      "metadata": {
        "id": "qS1a1fV8bG61",
        "colab_type": "code",
        "colab": {
          "base_uri": "https://localhost:8080/",
          "height": 34
        },
        "outputId": "0fc7b1d5-837d-40fb-c4d5-fda3406c7f4a"
      },
      "source": [
        "import random\n",
        "rolled_num=random.randint (1,6)\n",
        "print(\"You Rolled:\",rolled_num) "
      ],
      "execution_count": 10,
      "outputs": [
        {
          "output_type": "stream",
          "text": [
            "You Rolled: 5\n"
          ],
          "name": "stdout"
        }
      ]
    },
    {
      "cell_type": "code",
      "metadata": {
        "id": "LKi9OB_1p6Ym",
        "colab_type": "code",
        "colab": {}
      },
      "source": [
        " "
      ],
      "execution_count": 0,
      "outputs": []
    }
  ]
}