{
  "nbformat": 4,
  "nbformat_minor": 0,
  "metadata": {
    "colab": {
      "name": "グループ5.ipynb",
      "provenance": [],
      "collapsed_sections": []
    },
    "kernelspec": {
      "name": "python3",
      "display_name": "Python 3"
    }
  },
  "cells": [
    {
      "cell_type": "code",
      "metadata": {
        "id": "zTOHeePCoLk5",
        "colab_type": "code",
        "outputId": "0ed09ad7-2723-4221-cb4e-69a90c6ca7e6",
        "colab": {
          "base_uri": "https://localhost:8080/",
          "height": 88
        }
      },
      "source": [
        " import random\n",
        "question = input(\"サイコロを転がしますか [y/n]?\")\n",
        "while question != \"n\":\n",
        "  if question ==\"y\":\n",
        "    die1 = random.randint(1,6)\n",
        "    die2 = random.randint(1,6)\n",
        "    print(die1,die2)\n",
        "    question = input(\"サイコロを転がしますか[y/n]?\")\n"
      ],
      "execution_count": 0,
      "outputs": [
        {
          "output_type": "stream",
          "text": [
            "サイコロを転がしますか [y/n]?y\n",
            "2 1\n"
          ],
          "name": "stdout"
        }
      ]
    },
    {
      "cell_type": "code",
      "metadata": {
        "id": "qS1a1fV8bG61",
        "colab_type": "code",
        "colab": {
          "base_uri": "https://localhost:8080/",
          "height": 34
        },
        "outputId": "203cd3d2-206a-4c95-f09b-32603efbde3a"
      },
      "source": [
        "import random\n",
        "rolled_num=random.randint (1,6)\n",
        "print(\"You Rolled:\",rolled_num) "
      ],
      "execution_count": 15,
      "outputs": [
        {
          "output_type": "stream",
          "text": [
            "You Rolled: 5\n"
          ],
          "name": "stdout"
        }
      ]
    },
    {
      "cell_type": "code",
      "metadata": {
        "id": "LKi9OB_1p6Ym",
        "colab_type": "code",
        "colab": {}
      },
      "source": [
        " "
      ],
      "execution_count": 0,
      "outputs": []
    }
  ]
}